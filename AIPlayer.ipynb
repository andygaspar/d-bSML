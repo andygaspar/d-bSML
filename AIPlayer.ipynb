{
 "cells": [
  {
   "cell_type": "code",
   "execution_count": 1,
   "metadata": {},
   "outputs": [],
   "source": [
    "import matplotlib.pyplot as plt\n",
    "plt.style.use('ggplot')\n",
    "import numpy as np\n",
    "import torch\n",
    "from torch import nn, optim\n",
    "from torch.autograd import Variable\n",
    "from IPython import display"
   ]
  },
  {
   "cell_type": "code",
   "execution_count": 2,
   "metadata": {},
   "outputs": [
    {
     "name": "stdout",
     "output_type": "stream",
     "text": [
      "[EPOCH]: 999, [LOSS]: tensor([0.], requires_grad=True)\n"
     ]
    }
   ],
   "source": [
    "torch.manual_seed(41)\n",
    "n = 3\n",
    "N = (2 * n + 2) * n # num samples per class\n",
    "D = 1    # dimensions\n",
    "H = 200  # num hidden units\n",
    "epochs = 1000\n",
    "\n",
    "X = torch.zeros(N, D)\n",
    "y = torch.zeros(N, dtype = torch.long)\n",
    "\n",
    "print(\"Shapes:\")\n",
    "print(\"X:\", X.size())\n",
    "print(\"y:\", y.size())\n",
    "\n",
    "model = nn.Sequential(\n",
    "    nn.Linear(D, H),\n",
    "    nn.ReLU(),\n",
    "    nn.Linear(H, N))\n",
    "\n",
    "criterion = Variable(torch.zeros(1), requires_grad=True)\n",
    "#criterion.register_hook(lambda g: print(g)) # To print the gradient\n",
    "\n",
    "optimizer = optim.Adam(model.parameters(), lr=1e-3, weight_decay=1e-5)\n",
    "\n",
    "for e in range(epochs):\n",
    "    y_pred = model(X)\n",
    "    loss = criterion # criterion(y_pred, y)\n",
    "    print(\"[EPOCH]: {}, [LOSS]: {}\".format(e, loss))\n",
    "    display.clear_output(wait=True)\n",
    "    \n",
    "    optimizer.zero_grad() # at every epoch I set the gradients to zero\n",
    "    loss.backward() # the gradients will populate each trainable parameter in our model\n",
    "    optimizer.step() # updates according to the optimizer the parameters"
   ]
  },
  {
   "cell_type": "code",
   "execution_count": 4,
   "metadata": {},
   "outputs": [
    {
     "data": {
      "text/plain": "torch.Size([24, 24])"
     },
     "execution_count": 4,
     "metadata": {},
     "output_type": "execute_result"
    }
   ],
   "source": [
    "y_pred.shape"
   ]
  },
  {
   "cell_type": "code",
   "execution_count": null,
   "outputs": [],
   "source": [
    "\n"
   ],
   "metadata": {
    "collapsed": false,
    "pycharm": {
     "name": "#%%\n"
    }
   }
  }
 ],
 "metadata": {
  "kernelspec": {
   "name": "python3",
   "language": "python",
   "display_name": "Python 3"
  },
  "language_info": {
   "codemirror_mode": {
    "name": "ipython",
    "version": 3
   },
   "file_extension": ".py",
   "mimetype": "text/x-python",
   "name": "python",
   "nbconvert_exporter": "python",
   "pygments_lexer": "ipython3",
   "version": "3.6.9"
  }
 },
 "nbformat": 4,
 "nbformat_minor": 2
}